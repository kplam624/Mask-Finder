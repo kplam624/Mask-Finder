{
 "cells": [
  {
   "cell_type": "markdown",
   "metadata": {
    "colab_type": "text",
    "id": "view-in-github"
   },
   "source": [
    "<a href=\"https://colab.research.google.com/github/kplam624/Mask-Finder/blob/imagepreprocessing/image_preprocessing.ipynb\" target=\"_parent\"><img src=\"https://colab.research.google.com/assets/colab-badge.svg\" alt=\"Open In Colab\"/></a>"
   ]
  },
  {
   "cell_type": "code",
   "execution_count": 1,
   "metadata": {
    "id": "driven-disposal"
   },
   "outputs": [
    {
     "name": "stderr",
     "output_type": "stream",
     "text": [
      "Using TensorFlow backend.\n"
     ]
    }
   ],
   "source": [
    "# import dependencies\n",
    "import os\n",
    "import matplotlib.pyplot as plt\n",
    "import matplotlib.image as mpimg\n",
    "import pandas as pd\n",
    "import numpy as np\n",
    "\n",
    "import PIL\n",
    "\n",
    "import tensorflow as tf\n",
    "from tensorflow import keras\n",
    "from keras.preprocessing import image\n",
    "from keras.preprocessing.image import ImageDataGenerator\n",
    "from keras.applications.vgg19 import (\n",
    "    VGG19,\n",
    "    preprocess_input,\n",
    "    decode_predictions\n",
    ")"
   ]
  },
  {
   "cell_type": "code",
   "execution_count": 2,
   "metadata": {
    "id": "alone-stupid"
   },
   "outputs": [],
   "source": [
    "names = ['with_mask', 'without_mask']\n",
    "batch = 32"
   ]
  },
  {
   "cell_type": "markdown",
   "metadata": {
    "id": "prescription-artwork"
   },
   "source": [
    "# Code if run on Google Colab"
   ]
  },
  {
   "cell_type": "code",
   "execution_count": 3,
   "metadata": {
    "colab": {
     "base_uri": "https://localhost:8080/"
    },
    "id": "gAAJggUBAnag",
    "outputId": "990d89f9-0189-4e99-d501-ba6a72a0922f"
   },
   "outputs": [
    {
     "name": "stdout",
     "output_type": "stream",
     "text": [
      "Collecting split-folders\n",
      "  Downloading https://files.pythonhosted.org/packages/b8/5f/3c2b2f7ea5e047c8cdc3bb00ae582c5438fcdbbedcc23b3cc1c2c7aae642/split_folders-0.4.3-py3-none-any.whl\n",
      "Installing collected packages: split-folders\n",
      "Successfully installed split-folders-0.4.3\n"
     ]
    }
   ],
   "source": [
    "# When Running on google colab use the following to install the split-folders library\n",
    "!pip install split-folders \n",
    "import splitfolders"
   ]
  },
  {
   "cell_type": "code",
   "execution_count": 4,
   "metadata": {
    "colab": {
     "base_uri": "https://localhost:8080/"
    },
    "id": "rqCNe6LrxqpX",
    "outputId": "bebbb3ae-65a3-48d7-d9b0-2b315ed68d15"
   },
   "outputs": [
    {
     "name": "stdout",
     "output_type": "stream",
     "text": [
      "Mounted at /content/drive\n"
     ]
    }
   ],
   "source": [
    "from google.colab import drive\n",
    "drive.mount('/content/drive')"
   ]
  },
  {
   "cell_type": "code",
   "execution_count": 5,
   "metadata": {
    "id": "aDUFoiLEyRvB"
   },
   "outputs": [],
   "source": [
    "Data = '/content/drive/MyDrive/Colab Notebooks/maskfinder/Data'"
   ]
  },
  {
   "cell_type": "code",
   "execution_count": 6,
   "metadata": {
    "colab": {
     "base_uri": "https://localhost:8080/"
    },
    "id": "5sUTKYs_BNDD",
    "outputId": "f629705c-f634-4366-9aea-7d7b3c1592de"
   },
   "outputs": [
    {
     "name": "stderr",
     "output_type": "stream",
     "text": [
      "Copying files: 11043 files [44:19,  4.15 files/s]\n"
     ]
    }
   ],
   "source": [
    "# Line below will split the folders into test, validation, and test data.\n",
    "# Only run when first using the notebook!!\n",
    "\n",
    "splitfolders.ratio(Data, output=\"output\", seed=1337, ratio=(.8, 0.1,0.1))"
   ]
  },
  {
   "cell_type": "code",
   "execution_count": 7,
   "metadata": {
    "id": "MlMZDxGlIG4h"
   },
   "outputs": [],
   "source": [
    "# Define what the train, test, and validation datasets are.\n",
    "train_data = '/content/output/train'\n",
    "test_data = '/content/output/test'\n",
    "val_data = '/content/output/val'"
   ]
  },
  {
   "cell_type": "markdown",
   "metadata": {
    "id": "distinct-latter"
   },
   "source": [
    "# If Running on a jupyter notebook run this"
   ]
  },
  {
   "cell_type": "code",
   "execution_count": null,
   "metadata": {
    "id": "buried-mexican"
   },
   "outputs": [],
   "source": [
    "import splitfolders"
   ]
  },
  {
   "cell_type": "code",
   "execution_count": null,
   "metadata": {
    "id": "killing-aspect"
   },
   "outputs": [],
   "source": [
    "# Only run the code below if you are running the code for the first time.\n",
    "# Data = 'Data'\n",
    "# splitfolders.ratio(Data, output = \"output\", seed = 1337, ratio=(.8, 0.1, 0.1))"
   ]
  },
  {
   "cell_type": "code",
   "execution_count": null,
   "metadata": {
    "id": "finnish-culture"
   },
   "outputs": [],
   "source": [
    "# Define what the train, test, and validation datasets are.\n",
    "train_data = 'output/train'\n",
    "test_data = 'output/test'\n",
    "val_data = 'output/val'"
   ]
  },
  {
   "cell_type": "markdown",
   "metadata": {
    "id": "motivated-consent"
   },
   "source": [
    "## The training is the same whether for colab or for Jupyter notebook"
   ]
  },
  {
   "cell_type": "code",
   "execution_count": 20,
   "metadata": {
    "colab": {
     "base_uri": "https://localhost:8080/"
    },
    "id": "focal-vampire",
    "outputId": "a678100b-9ab7-4a31-90f4-fea3026ea9f4"
   },
   "outputs": [
    {
     "data": {
      "text/plain": [
       "<tensorflow.python.keras.preprocessing.image.ImageDataGenerator at 0x7ff34e502090>"
      ]
     },
     "execution_count": 20,
     "metadata": {
      "tags": []
     },
     "output_type": "execute_result"
    }
   ],
   "source": [
    "train_datagen = ImageDataGenerator(\n",
    "        rescale = 1./255,\n",
    "        shear_range = 0.2,\n",
    "        zoom_range = 0.2,\n",
    "        horizontal_flip = True)\n",
    "train_datagen"
   ]
  },
  {
   "cell_type": "code",
   "execution_count": 9,
   "metadata": {
    "id": "6g3IKxRfJS8K"
   },
   "outputs": [],
   "source": [
    "test_datagen = ImageDataGenerator(\n",
    "    rescale = 1./255\n",
    ")"
   ]
  },
  {
   "cell_type": "code",
   "execution_count": 21,
   "metadata": {
    "colab": {
     "base_uri": "https://localhost:8080/"
    },
    "id": "perceived-address",
    "outputId": "c8df6370-5eaf-44f6-f4be-4855ef43b30b"
   },
   "outputs": [
    {
     "name": "stdout",
     "output_type": "stream",
     "text": [
      "Found 8833 images belonging to 2 classes.\n"
     ]
    }
   ],
   "source": [
    "train_generator = train_datagen.flow_from_directory(\n",
    "    directory = train_data,\n",
    "    target_size = (220,220),\n",
    "    batch_size = batch,\n",
    "    class_mode = 'categorical')"
   ]
  },
  {
   "cell_type": "code",
   "execution_count": 22,
   "metadata": {
    "colab": {
     "base_uri": "https://localhost:8080/"
    },
    "id": "0brjLOsCtVMJ",
    "outputId": "19fa3de3-cd17-4770-b244-8872064f5483"
   },
   "outputs": [
    {
     "name": "stdout",
     "output_type": "stream",
     "text": [
      "Found 1106 images belonging to 2 classes.\n"
     ]
    }
   ],
   "source": [
    "test_generator = test_datagen.flow_from_directory(\n",
    "    directory = test_data,\n",
    "    target_size = (220,220),\n",
    "    batch_size = batch,\n",
    "    class_mode = 'categorical')"
   ]
  },
  {
   "cell_type": "code",
   "execution_count": 25,
   "metadata": {
    "colab": {
     "base_uri": "https://localhost:8080/"
    },
    "id": "confused-reform",
    "outputId": "27acc78d-b490-421b-9a2e-9af2072b34ab"
   },
   "outputs": [
    {
     "name": "stdout",
     "output_type": "stream",
     "text": [
      "Found 1104 images belonging to 2 classes.\n"
     ]
    }
   ],
   "source": [
    "val_generator = test_datagen.flow_from_directory(\n",
    "    directory = val_data,\n",
    "    target_size = (220,220),\n",
    "    batch_size = batch,\n",
    "    class_mode = 'categorical')"
   ]
  },
  {
   "cell_type": "code",
   "execution_count": 12,
   "metadata": {
    "id": "related-playback"
   },
   "outputs": [],
   "source": [
    "from keras import Sequential\n",
    "from keras.layers import Flatten, Dense"
   ]
  },
  {
   "cell_type": "code",
   "execution_count": 13,
   "metadata": {
    "colab": {
     "base_uri": "https://localhost:8080/"
    },
    "id": "facial-visit",
    "outputId": "747f430a-b55f-4713-d568-e723d43b7531"
   },
   "outputs": [
    {
     "name": "stdout",
     "output_type": "stream",
     "text": [
      "Downloading data from https://storage.googleapis.com/tensorflow/keras-applications/vgg19/vgg19_weights_tf_dim_ordering_tf_kernels_notop.h5\n",
      "80142336/80134624 [==============================] - 1s 0us/step\n"
     ]
    }
   ],
   "source": [
    "vgg19 = VGG19(weights = \"imagenet\", include_top = False, input_shape = (220,220,3))\n",
    "\n",
    "for layers in vgg19.layers:\n",
    "    layers.trainable = False"
   ]
  },
  {
   "cell_type": "code",
   "execution_count": 27,
   "metadata": {
    "id": "ordered-detail"
   },
   "outputs": [],
   "source": [
    "model = Sequential()\n",
    "model.add(vgg19)\n",
    "model.add(Flatten())\n",
    "model.add(Dense(units = 2, activation = 'sigmoid'))"
   ]
  },
  {
   "cell_type": "code",
   "execution_count": 28,
   "metadata": {
    "colab": {
     "base_uri": "https://localhost:8080/"
    },
    "id": "collectible-blade",
    "outputId": "4cf50c7d-dd3b-4eda-b908-f8ecdb23f2e0",
    "scrolled": true
   },
   "outputs": [
    {
     "name": "stdout",
     "output_type": "stream",
     "text": [
      "Model: \"sequential_1\"\n",
      "_________________________________________________________________\n",
      "Layer (type)                 Output Shape              Param #   \n",
      "=================================================================\n",
      "vgg19 (Functional)           (None, 6, 6, 512)         20024384  \n",
      "_________________________________________________________________\n",
      "flatten_1 (Flatten)          (None, 18432)             0         \n",
      "_________________________________________________________________\n",
      "dense_1 (Dense)              (None, 2)                 36866     \n",
      "=================================================================\n",
      "Total params: 20,061,250\n",
      "Trainable params: 36,866\n",
      "Non-trainable params: 20,024,384\n",
      "_________________________________________________________________\n"
     ]
    }
   ],
   "source": [
    "model.summary()"
   ]
  },
  {
   "cell_type": "code",
   "execution_count": 29,
   "metadata": {
    "id": "special-bumper"
   },
   "outputs": [],
   "source": [
    "model.compile(optimizer = 'Adam',\n",
    "             loss = 'categorical_crossentropy',\n",
    "             metrics = ['accuracy'])"
   ]
  },
  {
   "cell_type": "code",
   "execution_count": 30,
   "metadata": {
    "colab": {
     "base_uri": "https://localhost:8080/"
    },
    "id": "graphic-stress",
    "outputId": "e57eff2d-42fb-410b-b07e-63cc283eeb33",
    "scrolled": true
   },
   "outputs": [
    {
     "name": "stdout",
     "output_type": "stream",
     "text": [
      "Epoch 1/15\n",
      "8/8 - 176s - loss: 0.9780 - accuracy: 0.6328 - val_loss: 0.4042 - val_accuracy: 0.8750\n",
      "Epoch 2/15\n",
      "8/8 - 176s - loss: 0.4159 - accuracy: 0.7969 - val_loss: 0.0982 - val_accuracy: 0.9375\n",
      "Epoch 3/15\n",
      "8/8 - 177s - loss: 0.2257 - accuracy: 0.9258 - val_loss: 0.3960 - val_accuracy: 0.9062\n",
      "Epoch 4/15\n",
      "8/8 - 177s - loss: 0.2198 - accuracy: 0.9297 - val_loss: 0.0842 - val_accuracy: 0.9375\n",
      "Epoch 5/15\n",
      "8/8 - 176s - loss: 0.1015 - accuracy: 0.9648 - val_loss: 0.1924 - val_accuracy: 0.9688\n",
      "Epoch 6/15\n",
      "8/8 - 174s - loss: 0.0845 - accuracy: 0.9805 - val_loss: 0.1695 - val_accuracy: 0.9688\n",
      "Epoch 7/15\n",
      "8/8 - 173s - loss: 0.1076 - accuracy: 0.9609 - val_loss: 0.1562 - val_accuracy: 0.9375\n",
      "Epoch 8/15\n",
      "8/8 - 175s - loss: 0.0681 - accuracy: 0.9805 - val_loss: 0.0917 - val_accuracy: 0.9688\n",
      "Epoch 9/15\n",
      "8/8 - 177s - loss: 0.0883 - accuracy: 0.9609 - val_loss: 0.0418 - val_accuracy: 1.0000\n",
      "Epoch 10/15\n",
      "8/8 - 156s - loss: 0.0623 - accuracy: 0.9733 - val_loss: 0.1834 - val_accuracy: 0.9375\n",
      "Epoch 11/15\n",
      "8/8 - 174s - loss: 0.0780 - accuracy: 0.9844 - val_loss: 0.0261 - val_accuracy: 1.0000\n",
      "Epoch 12/15\n",
      "8/8 - 171s - loss: 0.0833 - accuracy: 0.9727 - val_loss: 0.0753 - val_accuracy: 0.9688\n",
      "Epoch 13/15\n",
      "8/8 - 171s - loss: 0.0836 - accuracy: 0.9727 - val_loss: 0.1436 - val_accuracy: 0.9062\n",
      "Epoch 14/15\n",
      "8/8 - 171s - loss: 0.0685 - accuracy: 0.9805 - val_loss: 0.0555 - val_accuracy: 0.9688\n",
      "Epoch 15/15\n",
      "8/8 - 171s - loss: 0.0717 - accuracy: 0.9766 - val_loss: 0.0433 - val_accuracy: 1.0000\n"
     ]
    },
    {
     "data": {
      "text/plain": [
       "<tensorflow.python.keras.callbacks.History at 0x7ff3513d2e50>"
      ]
     },
     "execution_count": 30,
     "metadata": {
      "tags": []
     },
     "output_type": "execute_result"
    }
   ],
   "source": [
    "# This is to further train the model.\n",
    "# Keep in mind that to further train the model, a strong processor/ computing power is needed.\n",
    "# A common error that occurs is 'UnidentifiedImageError'\n",
    "# Try in google colab and if the error still occurs, you do not have the processing power for the size of the data.\n",
    "\n",
    "model.fit(train_generator,\n",
    "            steps_per_epoch = len(train_generator)//32,\n",
    "            epochs = 15,\n",
    "            validation_data = val_generator,\n",
    "            validation_steps=len(val_generator)//32,\n",
    "            verbose = 2\n",
    "            )"
   ]
  },
  {
   "cell_type": "code",
   "execution_count": 31,
   "metadata": {
    "colab": {
     "base_uri": "https://localhost:8080/"
    },
    "id": "sufficient-defensive",
    "outputId": "10b3e2ab-ee97-46e6-ebd9-410778b782c6"
   },
   "outputs": [
    {
     "name": "stdout",
     "output_type": "stream",
     "text": [
      "35/35 [==============================] - 644s 18s/step - loss: 0.0800 - accuracy: 0.9747\n"
     ]
    },
    {
     "data": {
      "text/plain": [
       "[0.08002479374408722, 0.9746835231781006]"
      ]
     },
     "execution_count": 31,
     "metadata": {
      "tags": []
     },
     "output_type": "execute_result"
    }
   ],
   "source": [
    "model.evaluate(test_generator)"
   ]
  },
  {
   "cell_type": "code",
   "execution_count": 33,
   "metadata": {
    "id": "-N1ihJsbtrXl"
   },
   "outputs": [],
   "source": [
    "model.save('face.h5')"
   ]
  },
  {
   "cell_type": "code",
   "execution_count": 2,
   "metadata": {
    "id": "sV4mTVEbFcB5"
   },
   "outputs": [],
   "source": [
    "from tensorflow.keras.models import load_model\n",
    "model = load_model(\"face.h5\")"
   ]
  },
  {
   "cell_type": "code",
   "execution_count": 6,
   "metadata": {},
   "outputs": [],
   "source": [
    "image = 'output/test/without_mask/1.jpg'\n",
    "test = tf.keras.preprocessing.image.load_img(image, target_size = (220,220))\n",
    "input_arr = keras.preprocessing.image.img_to_array(test)\n",
    "input_arr = np.array([input_arr])\n",
    "predictions = model.predict(input_arr)"
   ]
  },
  {
   "cell_type": "code",
   "execution_count": 7,
   "metadata": {},
   "outputs": [
    {
     "data": {
      "text/plain": [
       "array([[1.4743589e-12, 2.4539659e-05]], dtype=float32)"
      ]
     },
     "execution_count": 7,
     "metadata": {},
     "output_type": "execute_result"
    }
   ],
   "source": [
    "predictions"
   ]
  },
  {
   "cell_type": "code",
   "execution_count": 8,
   "metadata": {},
   "outputs": [
    {
     "data": {
      "text/plain": [
       "1"
      ]
     },
     "execution_count": 8,
     "metadata": {},
     "output_type": "execute_result"
    }
   ],
   "source": [
    "predictions.argmax()"
   ]
  },
  {
   "cell_type": "code",
   "execution_count": 9,
   "metadata": {},
   "outputs": [],
   "source": [
    "image = 'output/test/with_mask/0.jpg'\n",
    "test = tf.keras.preprocessing.image.load_img(image, target_size = (220,220))\n",
    "input_arr = keras.preprocessing.image.img_to_array(test)\n",
    "input_arr = np.array([input_arr])\n",
    "predictions1 = model.predict(input_arr)"
   ]
  },
  {
   "cell_type": "code",
   "execution_count": 10,
   "metadata": {},
   "outputs": [
    {
     "data": {
      "text/plain": [
       "array([[1., 0.]], dtype=float32)"
      ]
     },
     "execution_count": 10,
     "metadata": {},
     "output_type": "execute_result"
    }
   ],
   "source": [
    "predictions1"
   ]
  },
  {
   "cell_type": "code",
   "execution_count": 11,
   "metadata": {},
   "outputs": [
    {
     "data": {
      "text/plain": [
       "0"
      ]
     },
     "execution_count": 11,
     "metadata": {},
     "output_type": "execute_result"
    }
   ],
   "source": [
    "predictions1.argmax()"
   ]
  },
  {
   "cell_type": "code",
   "execution_count": 6,
   "metadata": {},
   "outputs": [],
   "source": [
    "image = 'the_gang/saved_img-final-masked.jpg'\n",
    "test = tf.keras.preprocessing.image.load_img(image, target_size = (220,220))\n",
    "input_arr = keras.preprocessing.image.img_to_array(test)\n",
    "input_arr = np.array([input_arr])\n",
    "predictions2 = model.predict(input_arr)"
   ]
  },
  {
   "cell_type": "code",
   "execution_count": 12,
   "metadata": {},
   "outputs": [
    {
     "data": {
      "text/plain": [
       "0"
      ]
     },
     "execution_count": 12,
     "metadata": {},
     "output_type": "execute_result"
    }
   ],
   "source": [
    "predictions2\n",
    "predictions2.argmax()"
   ]
  },
  {
   "cell_type": "code",
   "execution_count": 31,
   "metadata": {},
   "outputs": [],
   "source": [
    "image = 'the_gang/saved_img-mask.jpg'\n",
    "test = tf.keras.preprocessing.image.load_img(image, target_size = (220,220))\n",
    "input_arr = keras.preprocessing.image.img_to_array(test)\n",
    "input_arr = np.array([input_arr])\n",
    "predictions3 = model.predict(input_arr)"
   ]
  },
  {
   "cell_type": "code",
   "execution_count": 10,
   "metadata": {},
   "outputs": [
    {
     "data": {
      "text/plain": [
       "array([[1.0000000e+00, 2.3223534e-07]], dtype=float32)"
      ]
     },
     "execution_count": 10,
     "metadata": {},
     "output_type": "execute_result"
    }
   ],
   "source": [
    "predictions3"
   ]
  },
  {
   "cell_type": "code",
   "execution_count": 25,
   "metadata": {},
   "outputs": [],
   "source": [
    "image = 'the_gang/IMG_withmask.jpg'\n",
    "test = tf.keras.preprocessing.image.load_img(image, target_size = (220,220))\n",
    "input_arr = keras.preprocessing.image.img_to_array(test)\n",
    "input_arr = np.array([input_arr])\n",
    "predictions3 = model.predict(input_arr)"
   ]
  },
  {
   "cell_type": "code",
   "execution_count": 17,
   "metadata": {},
   "outputs": [
    {
     "data": {
      "text/plain": [
       "0"
      ]
     },
     "execution_count": 17,
     "metadata": {},
     "output_type": "execute_result"
    }
   ],
   "source": [
    "predictions3.argmax()"
   ]
  },
  {
   "cell_type": "code",
   "execution_count": 20,
   "metadata": {},
   "outputs": [],
   "source": [
    "mask_dict = {0:'Masked', 1:'No Mask'}"
   ]
  },
  {
   "cell_type": "code",
   "execution_count": 32,
   "metadata": {},
   "outputs": [
    {
     "data": {
      "text/plain": [
       "'Masked'"
      ]
     },
     "execution_count": 32,
     "metadata": {},
     "output_type": "execute_result"
    }
   ],
   "source": [
    "mask_dict[predictions3.argmax()]"
   ]
  },
  {
   "cell_type": "code",
   "execution_count": null,
   "metadata": {},
   "outputs": [],
   "source": []
  }
 ],
 "metadata": {
  "colab": {
   "collapsed_sections": [],
   "include_colab_link": true,
   "name": "image_preprocessing.ipynb",
   "provenance": [],
   "toc_visible": true
  },
  "kernelspec": {
   "display_name": "Python 3",
   "language": "python",
   "name": "python3"
  },
  "language_info": {
   "codemirror_mode": {
    "name": "ipython",
    "version": 3
   },
   "file_extension": ".py",
   "mimetype": "text/x-python",
   "name": "python",
   "nbconvert_exporter": "python",
   "pygments_lexer": "ipython3",
   "version": "3.8.5"
  }
 },
 "nbformat": 4,
 "nbformat_minor": 5
}
