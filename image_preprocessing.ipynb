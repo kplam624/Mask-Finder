{
  "nbformat": 4,
  "nbformat_minor": 5,
  "metadata": {
    "colab": {
      "name": "image_preprocessing.ipynb",
      "provenance": [],
      "collapsed_sections": [],
      "toc_visible": true,
      "include_colab_link": true
    },
    "kernelspec": {
      "display_name": "Python [conda env:PythonAdv] *",
      "language": "python",
      "name": "conda-env-PythonAdv-py"
    },
    "language_info": {
      "codemirror_mode": {
        "name": "ipython",
        "version": 3
      },
      "file_extension": ".py",
      "mimetype": "text/x-python",
      "name": "python",
      "nbconvert_exporter": "python",
      "pygments_lexer": "ipython3",
      "version": "3.6.12"
    }
  },
  "cells": [
    {
      "cell_type": "markdown",
      "metadata": {
        "id": "view-in-github",
        "colab_type": "text"
      },
      "source": [
        "<a href=\"https://colab.research.google.com/github/kplam624/Mask-Finder/blob/imagepreprocessing/image_preprocessing.ipynb\" target=\"_parent\"><img src=\"https://colab.research.google.com/assets/colab-badge.svg\" alt=\"Open In Colab\"/></a>"
      ]
    },
    {
      "cell_type": "code",
      "metadata": {
        "id": "driven-disposal"
      },
      "source": [
        "# import dependencies\n",
        "import os\n",
        "import matplotlib.pyplot as plt\n",
        "import matplotlib.image as mpimg\n",
        "import pandas as pd\n",
        "import numpy as np\n",
        "\n",
        "import PIL\n",
        "\n",
        "import tensorflow as tf\n",
        "from tensorflow import keras\n",
        "from keras.preprocessing import image\n",
        "from keras.preprocessing.image import ImageDataGenerator\n",
        "from keras.applications.vgg19 import (\n",
        "    VGG19,\n",
        "    preprocess_input,\n",
        "    decode_predictions\n",
        ")"
      ],
      "id": "driven-disposal",
      "execution_count": 1,
      "outputs": []
    },
    {
      "cell_type": "code",
      "metadata": {
        "id": "alone-stupid"
      },
      "source": [
        "names = ['with_mask', 'without_mask']\n",
        "batch = 32"
      ],
      "id": "alone-stupid",
      "execution_count": 2,
      "outputs": []
    },
    {
      "cell_type": "markdown",
      "metadata": {
        "id": "prescription-artwork"
      },
      "source": [
        "# Code if run on Google Colab"
      ],
      "id": "prescription-artwork"
    },
    {
      "cell_type": "code",
      "metadata": {
        "colab": {
          "base_uri": "https://localhost:8080/"
        },
        "id": "gAAJggUBAnag",
        "outputId": "990d89f9-0189-4e99-d501-ba6a72a0922f"
      },
      "source": [
        "# When Running on google colab use the following to install the split-folders library\n",
        "!pip install split-folders \n",
        "import splitfolders"
      ],
      "id": "gAAJggUBAnag",
      "execution_count": 3,
      "outputs": [
        {
          "output_type": "stream",
          "text": [
            "Collecting split-folders\n",
            "  Downloading https://files.pythonhosted.org/packages/b8/5f/3c2b2f7ea5e047c8cdc3bb00ae582c5438fcdbbedcc23b3cc1c2c7aae642/split_folders-0.4.3-py3-none-any.whl\n",
            "Installing collected packages: split-folders\n",
            "Successfully installed split-folders-0.4.3\n"
          ],
          "name": "stdout"
        }
      ]
    },
    {
      "cell_type": "code",
      "metadata": {
        "colab": {
          "base_uri": "https://localhost:8080/"
        },
        "id": "rqCNe6LrxqpX",
        "outputId": "bebbb3ae-65a3-48d7-d9b0-2b315ed68d15"
      },
      "source": [
        "from google.colab import drive\n",
        "drive.mount('/content/drive')"
      ],
      "id": "rqCNe6LrxqpX",
      "execution_count": 4,
      "outputs": [
        {
          "output_type": "stream",
          "text": [
            "Mounted at /content/drive\n"
          ],
          "name": "stdout"
        }
      ]
    },
    {
      "cell_type": "code",
      "metadata": {
        "id": "aDUFoiLEyRvB"
      },
      "source": [
        "Data = '/content/drive/MyDrive/Colab Notebooks/maskfinder/Data'"
      ],
      "id": "aDUFoiLEyRvB",
      "execution_count": 5,
      "outputs": []
    },
    {
      "cell_type": "code",
      "metadata": {
        "colab": {
          "base_uri": "https://localhost:8080/"
        },
        "id": "5sUTKYs_BNDD",
        "outputId": "f629705c-f634-4366-9aea-7d7b3c1592de"
      },
      "source": [
        "# Line below will split the folders into test, validation, and test data.\n",
        "# Only run when first using the notebook!!\n",
        "\n",
        "splitfolders.ratio(Data, output=\"output\", seed=1337, ratio=(.8, 0.1,0.1))"
      ],
      "id": "5sUTKYs_BNDD",
      "execution_count": 6,
      "outputs": [
        {
          "output_type": "stream",
          "text": [
            "Copying files: 11043 files [44:19,  4.15 files/s]\n"
          ],
          "name": "stderr"
        }
      ]
    },
    {
      "cell_type": "code",
      "metadata": {
        "id": "MlMZDxGlIG4h"
      },
      "source": [
        "# Define what the train, test, and validation datasets are.\n",
        "train_data = '/content/output/train'\n",
        "test_data = '/content/output/test'\n",
        "val_data = '/content/output/val'"
      ],
      "id": "MlMZDxGlIG4h",
      "execution_count": 7,
      "outputs": []
    },
    {
      "cell_type": "markdown",
      "metadata": {
        "id": "distinct-latter"
      },
      "source": [
        "# If Running on a jupyter notebook run this"
      ],
      "id": "distinct-latter"
    },
    {
      "cell_type": "code",
      "metadata": {
        "id": "buried-mexican"
      },
      "source": [
        "import splitfolders"
      ],
      "id": "buried-mexican",
      "execution_count": null,
      "outputs": []
    },
    {
      "cell_type": "code",
      "metadata": {
        "id": "killing-aspect"
      },
      "source": [
        "# Only run the code below if you are running the code for the first time.\n",
        "# Data = 'Data'\n",
        "# splitfolders.ratio(Data, output = \"output\", seed = 1337, ratio=(.8, 0.1, 0.1))"
      ],
      "id": "killing-aspect",
      "execution_count": null,
      "outputs": []
    },
    {
      "cell_type": "code",
      "metadata": {
        "id": "finnish-culture"
      },
      "source": [
        "# Define what the train, test, and validation datasets are.\n",
        "train_data = 'output/train'\n",
        "test_data = 'output/test'\n",
        "val_data = 'output/val'"
      ],
      "id": "finnish-culture",
      "execution_count": null,
      "outputs": []
    },
    {
      "cell_type": "markdown",
      "metadata": {
        "id": "motivated-consent"
      },
      "source": [
        "## The training is the same whether for colab or for Jupyter notebook"
      ],
      "id": "motivated-consent"
    },
    {
      "cell_type": "code",
      "metadata": {
        "colab": {
          "base_uri": "https://localhost:8080/"
        },
        "id": "focal-vampire",
        "outputId": "a678100b-9ab7-4a31-90f4-fea3026ea9f4"
      },
      "source": [
        "train_datagen = ImageDataGenerator(\n",
        "        rescale = 1./255,\n",
        "        shear_range = 0.2,\n",
        "        zoom_range = 0.2,\n",
        "        horizontal_flip = True)\n",
        "train_datagen"
      ],
      "id": "focal-vampire",
      "execution_count": 20,
      "outputs": [
        {
          "output_type": "execute_result",
          "data": {
            "text/plain": [
              "<tensorflow.python.keras.preprocessing.image.ImageDataGenerator at 0x7ff34e502090>"
            ]
          },
          "metadata": {
            "tags": []
          },
          "execution_count": 20
        }
      ]
    },
    {
      "cell_type": "code",
      "metadata": {
        "id": "6g3IKxRfJS8K"
      },
      "source": [
        "test_datagen = ImageDataGenerator(\n",
        "    rescale = 1./255\n",
        ")"
      ],
      "id": "6g3IKxRfJS8K",
      "execution_count": 9,
      "outputs": []
    },
    {
      "cell_type": "code",
      "metadata": {
        "colab": {
          "base_uri": "https://localhost:8080/"
        },
        "id": "perceived-address",
        "outputId": "c8df6370-5eaf-44f6-f4be-4855ef43b30b"
      },
      "source": [
        "train_generator = train_datagen.flow_from_directory(\n",
        "    directory = train_data,\n",
        "    target_size = (220,220),\n",
        "    batch_size = batch,\n",
        "    class_mode = 'categorical')"
      ],
      "id": "perceived-address",
      "execution_count": 21,
      "outputs": [
        {
          "output_type": "stream",
          "text": [
            "Found 8833 images belonging to 2 classes.\n"
          ],
          "name": "stdout"
        }
      ]
    },
    {
      "cell_type": "code",
      "metadata": {
        "id": "0brjLOsCtVMJ",
        "outputId": "19fa3de3-cd17-4770-b244-8872064f5483",
        "colab": {
          "base_uri": "https://localhost:8080/"
        }
      },
      "source": [
        "test_generator = test_datagen.flow_from_directory(\r\n",
        "    directory = test_data,\r\n",
        "    target_size = (220,220),\r\n",
        "    batch_size = batch,\r\n",
        "    class_mode = 'categorical')"
      ],
      "id": "0brjLOsCtVMJ",
      "execution_count": 22,
      "outputs": [
        {
          "output_type": "stream",
          "text": [
            "Found 1106 images belonging to 2 classes.\n"
          ],
          "name": "stdout"
        }
      ]
    },
    {
      "cell_type": "code",
      "metadata": {
        "colab": {
          "base_uri": "https://localhost:8080/"
        },
        "id": "confused-reform",
        "outputId": "27acc78d-b490-421b-9a2e-9af2072b34ab"
      },
      "source": [
        "val_generator = test_datagen.flow_from_directory(\n",
        "    directory = val_data,\n",
        "    target_size = (220,220),\n",
        "    batch_size = batch,\n",
        "    class_mode = 'categorical')"
      ],
      "id": "confused-reform",
      "execution_count": 25,
      "outputs": [
        {
          "output_type": "stream",
          "text": [
            "Found 1104 images belonging to 2 classes.\n"
          ],
          "name": "stdout"
        }
      ]
    },
    {
      "cell_type": "code",
      "metadata": {
        "id": "related-playback"
      },
      "source": [
        "from keras import Sequential\n",
        "from keras.layers import Flatten, Dense"
      ],
      "id": "related-playback",
      "execution_count": 12,
      "outputs": []
    },
    {
      "cell_type": "code",
      "metadata": {
        "colab": {
          "base_uri": "https://localhost:8080/"
        },
        "id": "facial-visit",
        "outputId": "747f430a-b55f-4713-d568-e723d43b7531"
      },
      "source": [
        "vgg19 = VGG19(weights = \"imagenet\", include_top = False, input_shape = (220,220,3))\n",
        "\n",
        "for layers in vgg19.layers:\n",
        "    layers.trainable = False"
      ],
      "id": "facial-visit",
      "execution_count": 13,
      "outputs": [
        {
          "output_type": "stream",
          "text": [
            "Downloading data from https://storage.googleapis.com/tensorflow/keras-applications/vgg19/vgg19_weights_tf_dim_ordering_tf_kernels_notop.h5\n",
            "80142336/80134624 [==============================] - 1s 0us/step\n"
          ],
          "name": "stdout"
        }
      ]
    },
    {
      "cell_type": "code",
      "metadata": {
        "id": "ordered-detail"
      },
      "source": [
        "model = Sequential()\n",
        "model.add(vgg19)\n",
        "model.add(Flatten())\n",
        "model.add(Dense(units = 2, activation = 'sigmoid'))"
      ],
      "id": "ordered-detail",
      "execution_count": 27,
      "outputs": []
    },
    {
      "cell_type": "code",
      "metadata": {
        "colab": {
          "base_uri": "https://localhost:8080/"
        },
        "id": "collectible-blade",
        "outputId": "4cf50c7d-dd3b-4eda-b908-f8ecdb23f2e0"
      },
      "source": [
        "model.summary()"
      ],
      "id": "collectible-blade",
      "execution_count": 28,
      "outputs": [
        {
          "output_type": "stream",
          "text": [
            "Model: \"sequential_1\"\n",
            "_________________________________________________________________\n",
            "Layer (type)                 Output Shape              Param #   \n",
            "=================================================================\n",
            "vgg19 (Functional)           (None, 6, 6, 512)         20024384  \n",
            "_________________________________________________________________\n",
            "flatten_1 (Flatten)          (None, 18432)             0         \n",
            "_________________________________________________________________\n",
            "dense_1 (Dense)              (None, 2)                 36866     \n",
            "=================================================================\n",
            "Total params: 20,061,250\n",
            "Trainable params: 36,866\n",
            "Non-trainable params: 20,024,384\n",
            "_________________________________________________________________\n"
          ],
          "name": "stdout"
        }
      ]
    },
    {
      "cell_type": "code",
      "metadata": {
        "id": "special-bumper"
      },
      "source": [
        "model.compile(optimizer = 'Adam',\n",
        "             loss = 'categorical_crossentropy',\n",
        "             metrics = ['accuracy'])"
      ],
      "id": "special-bumper",
      "execution_count": 29,
      "outputs": []
    },
    {
      "cell_type": "code",
      "metadata": {
        "colab": {
          "base_uri": "https://localhost:8080/"
        },
        "id": "graphic-stress",
        "outputId": "e57eff2d-42fb-410b-b07e-63cc283eeb33"
      },
      "source": [
        "# This is to further train the model.\n",
        "# Keep in mind that to further train the model, a strong processor/ computing power is needed.\n",
        "# A common error that occurs is 'UnidentifiedImageError'\n",
        "# Try in google colab and if the error still occurs, you do not have the processing power for the size of the data.\n",
        "\n",
        "model.fit(train_generator,\n",
        "            steps_per_epoch = len(train_generator)//32,\n",
        "            epochs = 15,\n",
        "            validation_data = val_generator,\n",
        "            validation_steps=len(val_generator)//32,\n",
        "            verbose = 2\n",
        "            )"
      ],
      "id": "graphic-stress",
      "execution_count": 30,
      "outputs": [
        {
          "output_type": "stream",
          "text": [
            "Epoch 1/15\n",
            "8/8 - 176s - loss: 0.9780 - accuracy: 0.6328 - val_loss: 0.4042 - val_accuracy: 0.8750\n",
            "Epoch 2/15\n",
            "8/8 - 176s - loss: 0.4159 - accuracy: 0.7969 - val_loss: 0.0982 - val_accuracy: 0.9375\n",
            "Epoch 3/15\n",
            "8/8 - 177s - loss: 0.2257 - accuracy: 0.9258 - val_loss: 0.3960 - val_accuracy: 0.9062\n",
            "Epoch 4/15\n",
            "8/8 - 177s - loss: 0.2198 - accuracy: 0.9297 - val_loss: 0.0842 - val_accuracy: 0.9375\n",
            "Epoch 5/15\n",
            "8/8 - 176s - loss: 0.1015 - accuracy: 0.9648 - val_loss: 0.1924 - val_accuracy: 0.9688\n",
            "Epoch 6/15\n",
            "8/8 - 174s - loss: 0.0845 - accuracy: 0.9805 - val_loss: 0.1695 - val_accuracy: 0.9688\n",
            "Epoch 7/15\n",
            "8/8 - 173s - loss: 0.1076 - accuracy: 0.9609 - val_loss: 0.1562 - val_accuracy: 0.9375\n",
            "Epoch 8/15\n",
            "8/8 - 175s - loss: 0.0681 - accuracy: 0.9805 - val_loss: 0.0917 - val_accuracy: 0.9688\n",
            "Epoch 9/15\n",
            "8/8 - 177s - loss: 0.0883 - accuracy: 0.9609 - val_loss: 0.0418 - val_accuracy: 1.0000\n",
            "Epoch 10/15\n",
            "8/8 - 156s - loss: 0.0623 - accuracy: 0.9733 - val_loss: 0.1834 - val_accuracy: 0.9375\n",
            "Epoch 11/15\n",
            "8/8 - 174s - loss: 0.0780 - accuracy: 0.9844 - val_loss: 0.0261 - val_accuracy: 1.0000\n",
            "Epoch 12/15\n",
            "8/8 - 171s - loss: 0.0833 - accuracy: 0.9727 - val_loss: 0.0753 - val_accuracy: 0.9688\n",
            "Epoch 13/15\n",
            "8/8 - 171s - loss: 0.0836 - accuracy: 0.9727 - val_loss: 0.1436 - val_accuracy: 0.9062\n",
            "Epoch 14/15\n",
            "8/8 - 171s - loss: 0.0685 - accuracy: 0.9805 - val_loss: 0.0555 - val_accuracy: 0.9688\n",
            "Epoch 15/15\n",
            "8/8 - 171s - loss: 0.0717 - accuracy: 0.9766 - val_loss: 0.0433 - val_accuracy: 1.0000\n"
          ],
          "name": "stdout"
        },
        {
          "output_type": "execute_result",
          "data": {
            "text/plain": [
              "<tensorflow.python.keras.callbacks.History at 0x7ff3513d2e50>"
            ]
          },
          "metadata": {
            "tags": []
          },
          "execution_count": 30
        }
      ]
    },
    {
      "cell_type": "code",
      "metadata": {
        "id": "sufficient-defensive",
        "outputId": "10b3e2ab-ee97-46e6-ebd9-410778b782c6",
        "colab": {
          "base_uri": "https://localhost:8080/"
        }
      },
      "source": [
        "model.evaluate(test_generator)"
      ],
      "id": "sufficient-defensive",
      "execution_count": 31,
      "outputs": [
        {
          "output_type": "stream",
          "text": [
            "35/35 [==============================] - 644s 18s/step - loss: 0.0800 - accuracy: 0.9747\n"
          ],
          "name": "stdout"
        },
        {
          "output_type": "execute_result",
          "data": {
            "text/plain": [
              "[0.08002479374408722, 0.9746835231781006]"
            ]
          },
          "metadata": {
            "tags": []
          },
          "execution_count": 31
        }
      ]
    },
    {
      "cell_type": "code",
      "metadata": {
        "id": "-N1ihJsbtrXl"
      },
      "source": [
        "model.save('face.h5')"
      ],
      "id": "-N1ihJsbtrXl",
      "execution_count": 33,
      "outputs": []
    },
    {
      "cell_type": "code",
      "metadata": {
        "id": "sV4mTVEbFcB5"
      },
      "source": [
        ""
      ],
      "id": "sV4mTVEbFcB5",
      "execution_count": null,
      "outputs": []
    }
  ]
}