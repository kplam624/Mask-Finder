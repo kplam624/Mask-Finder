{
  "nbformat": 4,
  "nbformat_minor": 5,
  "metadata": {
    "kernelspec": {
      "display_name": "Python [conda env:PythonAdv] *",
      "language": "python",
      "name": "conda-env-PythonAdv-py"
    },
    "language_info": {
      "codemirror_mode": {
        "name": "ipython",
        "version": 3
      },
      "file_extension": ".py",
      "mimetype": "text/x-python",
      "name": "python",
      "nbconvert_exporter": "python",
      "pygments_lexer": "ipython3",
      "version": "3.6.12"
    },
    "colab": {
      "name": "image_preprocessing.ipynb",
      "provenance": [],
      "collapsed_sections": [],
      "include_colab_link": true
    }
  },
  "cells": [
    {
      "cell_type": "markdown",
      "metadata": {
        "id": "view-in-github",
        "colab_type": "text"
      },
      "source": [
        "<a href=\"https://colab.research.google.com/github/kplam624/Mask-Finder/blob/imagepreprocessing/image_preprocessing.ipynb\" target=\"_parent\"><img src=\"https://colab.research.google.com/assets/colab-badge.svg\" alt=\"Open In Colab\"/></a>"
      ]
    },
    {
      "cell_type": "code",
      "metadata": {
        "id": "driven-disposal"
      },
      "source": [
        "# import dependencies\n",
        "import os\n",
        "import matplotlib.pyplot as plt\n",
        "import matplotlib.image as mpimg\n",
        "import pandas as pd\n",
        "import numpy as np\n",
        "\n",
        "import PIL\n",
        "\n",
        "import tensorflow as tf\n",
        "from tensorflow import keras\n",
        "from keras.preprocessing import image\n",
        "from keras.preprocessing.image import ImageDataGenerator\n",
        "from keras.applications.vgg19 import (\n",
        "    VGG19,\n",
        "    preprocess_input,\n",
        "    decode_predictions\n",
        ")"
      ],
      "id": "driven-disposal",
      "execution_count": 1,
      "outputs": []
    },
    {
      "cell_type": "code",
      "metadata": {
        "colab": {
          "base_uri": "https://localhost:8080/"
        },
        "id": "gAAJggUBAnag",
        "outputId": "7a6626c2-0cf0-40e7-a3b9-c9c0a55b14e6"
      },
      "source": [
        "!pip install split-folders \r\n",
        "import splitfolders"
      ],
      "id": "gAAJggUBAnag",
      "execution_count": 20,
      "outputs": [
        {
          "output_type": "stream",
          "text": [
            "Requirement already satisfied: split-folders in /usr/local/lib/python3.7/dist-packages (0.4.3)\n"
          ],
          "name": "stdout"
        }
      ]
    },
    {
      "cell_type": "code",
      "metadata": {
        "id": "alone-stupid"
      },
      "source": [
        "names = ['with_mask', 'without_mask']\n",
        "batch = 32"
      ],
      "id": "alone-stupid",
      "execution_count": 2,
      "outputs": []
    },
    {
      "cell_type": "code",
      "metadata": {
        "colab": {
          "base_uri": "https://localhost:8080/"
        },
        "id": "focal-vampire",
        "outputId": "b96ba288-2060-4d22-b48b-cbac0936d26a"
      },
      "source": [
        "train_datagen = ImageDataGenerator(\n",
        "        rescale = 1./255,\n",
        "        shear_range = 0.2,\n",
        "        zoom_range = 0.2,\n",
        "        horizontal_flip = True)\n",
        "train_datagen"
      ],
      "id": "focal-vampire",
      "execution_count": 3,
      "outputs": [
        {
          "output_type": "execute_result",
          "data": {
            "text/plain": [
              "<tensorflow.python.keras.preprocessing.image.ImageDataGenerator at 0x7f79dd74c850>"
            ]
          },
          "metadata": {
            "tags": []
          },
          "execution_count": 3
        }
      ]
    },
    {
      "cell_type": "code",
      "metadata": {
        "id": "6g3IKxRfJS8K"
      },
      "source": [
        "test_datagen = ImageDataGenerator(\r\n",
        "    rescale = 1./255\r\n",
        ")"
      ],
      "id": "6g3IKxRfJS8K",
      "execution_count": null,
      "outputs": []
    },
    {
      "cell_type": "code",
      "metadata": {
        "colab": {
          "base_uri": "https://localhost:8080/"
        },
        "id": "rqCNe6LrxqpX",
        "outputId": "58ce7f2e-03c2-408e-fd85-9c2063765212"
      },
      "source": [
        "from google.colab import drive\r\n",
        "drive.mount('/content/drive')"
      ],
      "id": "rqCNe6LrxqpX",
      "execution_count": 6,
      "outputs": [
        {
          "output_type": "stream",
          "text": [
            "Mounted at /content/drive\n"
          ],
          "name": "stdout"
        }
      ]
    },
    {
      "cell_type": "code",
      "metadata": {
        "id": "aDUFoiLEyRvB"
      },
      "source": [
        "Data = '/content/drive/MyDrive/Colab Notebooks/maskfinder/Data'"
      ],
      "id": "aDUFoiLEyRvB",
      "execution_count": 8,
      "outputs": []
    },
    {
      "cell_type": "code",
      "metadata": {
        "colab": {
          "base_uri": "https://localhost:8080/"
        },
        "id": "5sUTKYs_BNDD",
        "outputId": "6f6f6331-83ba-4d89-953c-9645e480f8c5"
      },
      "source": [
        "# Line below will split the folders into test, validation, and test data.\r\n",
        "# Only run when first using the notebook!!\r\n",
        "\r\n",
        "# splitfolders.ratio(Data, output=\"output\", seed=1337, ratio=(.8, 0.1,0.1))"
      ],
      "id": "5sUTKYs_BNDD",
      "execution_count": 22,
      "outputs": [
        {
          "output_type": "stream",
          "text": [
            "Copying files: 11043 files [26:32,  6.93 files/s]\n"
          ],
          "name": "stderr"
        }
      ]
    },
    {
      "cell_type": "code",
      "metadata": {
        "id": "MlMZDxGlIG4h"
      },
      "source": [
        "train_data = '/content/output/train'\r\n",
        "test_data = '/content/output/test'\r\n",
        "val_data = '/content/output/val'"
      ],
      "id": "MlMZDxGlIG4h",
      "execution_count": 24,
      "outputs": []
    },
    {
      "cell_type": "code",
      "metadata": {
        "colab": {
          "base_uri": "https://localhost:8080/"
        },
        "id": "perceived-address",
        "outputId": "e305076f-62a7-4424-eb67-6562c5bd3376"
      },
      "source": [
        "train_generator = train_datagen.flow_from_directory(\n",
        "    directory = train_data,\n",
        "    target_size = (220,220),\n",
        "    batch_size = batch,\n",
        "    class_mode = 'categorical')"
      ],
      "id": "perceived-address",
      "execution_count": 25,
      "outputs": [
        {
          "output_type": "stream",
          "text": [
            "Found 8833 images belonging to 2 classes.\n"
          ],
          "name": "stdout"
        }
      ]
    },
    {
      "cell_type": "code",
      "metadata": {
        "colab": {
          "base_uri": "https://localhost:8080/"
        },
        "id": "confused-reform",
        "outputId": "628e39f5-fcfd-4b97-f555-53aa045dc768"
      },
      "source": [
        "val_generator = train_datagen.flow_from_directory(\n",
        "    directory = val_data,\n",
        "    target_size = (220,220),\n",
        "    batch_size = batch,\n",
        "    class_mode = 'categorical')"
      ],
      "id": "confused-reform",
      "execution_count": 27,
      "outputs": [
        {
          "output_type": "stream",
          "text": [
            "Found 1104 images belonging to 2 classes.\n"
          ],
          "name": "stdout"
        }
      ]
    },
    {
      "cell_type": "code",
      "metadata": {
        "id": "related-playback"
      },
      "source": [
        "from keras import Sequential\n",
        "from keras.layers import Flatten, Dense"
      ],
      "id": "related-playback",
      "execution_count": 11,
      "outputs": []
    },
    {
      "cell_type": "code",
      "metadata": {
        "colab": {
          "base_uri": "https://localhost:8080/"
        },
        "id": "facial-visit",
        "outputId": "d7e171fb-5030-45c5-b11a-9a8013ba9b76"
      },
      "source": [
        "vgg19 = VGG19(weights = \"imagenet\", include_top = False, input_shape = (220,220,3))\n",
        "\n",
        "for layers in vgg19.layers:\n",
        "    layers.trainable = False"
      ],
      "id": "facial-visit",
      "execution_count": 12,
      "outputs": [
        {
          "output_type": "stream",
          "text": [
            "Downloading data from https://storage.googleapis.com/tensorflow/keras-applications/vgg19/vgg19_weights_tf_dim_ordering_tf_kernels_notop.h5\n",
            "80142336/80134624 [==============================] - 1s 0us/step\n"
          ],
          "name": "stdout"
        }
      ]
    },
    {
      "cell_type": "code",
      "metadata": {
        "id": "ordered-detail"
      },
      "source": [
        "model = Sequential()\n",
        "model.add(vgg19)\n",
        "model.add(Flatten())\n",
        "model.add(Dense(units = 2, activation = 'sigmoid'))"
      ],
      "id": "ordered-detail",
      "execution_count": 13,
      "outputs": []
    },
    {
      "cell_type": "code",
      "metadata": {
        "colab": {
          "base_uri": "https://localhost:8080/"
        },
        "id": "collectible-blade",
        "outputId": "e87e1f18-4b46-44f1-fc21-1479f23b8525"
      },
      "source": [
        "model.summary()"
      ],
      "id": "collectible-blade",
      "execution_count": 14,
      "outputs": [
        {
          "output_type": "stream",
          "text": [
            "Model: \"sequential\"\n",
            "_________________________________________________________________\n",
            "Layer (type)                 Output Shape              Param #   \n",
            "=================================================================\n",
            "vgg19 (Functional)           (None, 6, 6, 512)         20024384  \n",
            "_________________________________________________________________\n",
            "flatten (Flatten)            (None, 18432)             0         \n",
            "_________________________________________________________________\n",
            "dense (Dense)                (None, 2)                 36866     \n",
            "=================================================================\n",
            "Total params: 20,061,250\n",
            "Trainable params: 36,866\n",
            "Non-trainable params: 20,024,384\n",
            "_________________________________________________________________\n"
          ],
          "name": "stdout"
        }
      ]
    },
    {
      "cell_type": "code",
      "metadata": {
        "id": "special-bumper"
      },
      "source": [
        "model.compile(optimizer = 'Adam',\n",
        "             loss = 'categorical_crossentropy',\n",
        "             metrics = ['accuracy'])"
      ],
      "id": "special-bumper",
      "execution_count": 15,
      "outputs": []
    },
    {
      "cell_type": "code",
      "metadata": {
        "colab": {
          "base_uri": "https://localhost:8080/"
        },
        "id": "graphic-stress",
        "outputId": "e935d64b-3973-4ca7-99f9-10724b90bfd9"
      },
      "source": [
        "try:\n",
        "    model.fit(train_generator,\n",
        "              steps_per_epoch = len(train_generator)//32,\n",
        "              epochs = 10,\n",
        "              validation_data = test_generator,\n",
        "              validation_steps=len(test_generator)//32,\n",
        "              verbose = 1\n",
        "             )\n",
        "except 'UnidentifiedImageError':\n",
        "    print('oops')"
      ],
      "id": "graphic-stress",
      "execution_count": 17,
      "outputs": [
        {
          "output_type": "stream",
          "text": [
            "Epoch 1/10\n",
            "8/8 [==============================] - 213s 27s/step - loss: 0.8881 - accuracy: 0.6562 - val_loss: 0.3159 - val_accuracy: 0.8594\n",
            "Epoch 2/10\n",
            "8/8 [==============================] - 206s 26s/step - loss: 0.4243 - accuracy: 0.8594 - val_loss: 0.1097 - val_accuracy: 0.9844\n",
            "Epoch 3/10\n",
            "8/8 [==============================] - 205s 26s/step - loss: 0.2466 - accuracy: 0.9141 - val_loss: 0.0709 - val_accuracy: 0.9844\n",
            "Epoch 4/10\n",
            "8/8 [==============================] - 203s 25s/step - loss: 0.2242 - accuracy: 0.9219 - val_loss: 0.0870 - val_accuracy: 0.9688\n",
            "Epoch 5/10\n",
            "8/8 [==============================] - 204s 26s/step - loss: 0.1807 - accuracy: 0.9414 - val_loss: 0.0385 - val_accuracy: 1.0000\n",
            "Epoch 6/10\n",
            "8/8 [==============================] - 202s 25s/step - loss: 0.1543 - accuracy: 0.9492 - val_loss: 0.1132 - val_accuracy: 0.9531\n",
            "Epoch 7/10\n",
            "8/8 [==============================] - 202s 25s/step - loss: 0.1408 - accuracy: 0.9375 - val_loss: 0.0372 - val_accuracy: 0.9844\n",
            "Epoch 8/10\n",
            "8/8 [==============================] - 202s 25s/step - loss: 0.1027 - accuracy: 0.9648 - val_loss: 0.1507 - val_accuracy: 0.9531\n",
            "Epoch 9/10\n",
            "8/8 [==============================] - 202s 25s/step - loss: 0.0753 - accuracy: 0.9727 - val_loss: 0.0355 - val_accuracy: 1.0000\n",
            "Epoch 10/10\n",
            "8/8 [==============================] - 202s 25s/step - loss: 0.1120 - accuracy: 0.9688 - val_loss: 0.0337 - val_accuracy: 1.0000\n"
          ],
          "name": "stdout"
        }
      ]
    },
    {
      "cell_type": "code",
      "metadata": {
        "id": "sufficient-defensive"
      },
      "source": [
        ""
      ],
      "id": "sufficient-defensive",
      "execution_count": null,
      "outputs": []
    }
  ]
}